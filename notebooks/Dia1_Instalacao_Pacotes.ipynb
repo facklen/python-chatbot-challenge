{
  "nbformat": 4,
  "nbformat_minor": 0,
  "metadata": {
    "colab": {
      "provenance": [],
      "authorship_tag": "ABX9TyOzNYL/53AFa7LWIeBcdQ5/",
      "include_colab_link": true
    },
    "kernelspec": {
      "name": "python3",
      "display_name": "Python 3"
    },
    "language_info": {
      "name": "python"
    }
  },
  "cells": [
    {
      "cell_type": "markdown",
      "metadata": {
        "id": "view-in-github",
        "colab_type": "text"
      },
      "source": [
        "<a href=\"https://colab.research.google.com/github/facklen/python-chatbot-challenge/blob/main/notebooks/Dia1_Instalacao_Pacotes.ipynb\" target=\"_parent\"><img src=\"https://colab.research.google.com/assets/colab-badge.svg\" alt=\"Open In Colab\"/></a>"
      ]
    },
    {
      "cell_type": "markdown",
      "source": [
        "# Desafio Chatbot em Python - Dia 1\n",
        "## Instalação de Pacotes Necessários\n",
        "\n",
        "Este notebook contém a configuração inicial e instalação dos pacotes necessários para o desenvolvimento do chatbot."
      ],
      "metadata": {
        "id": "rdCBDLO1K1Q7"
      }
    },
    {
      "cell_type": "code",
      "execution_count": null,
      "metadata": {
        "id": "xlmQUGllBT02"
      },
      "outputs": [],
      "source": [
        "# Verifica a versão do python\n",
        "!python --version\n",
        "# Atualiza o pip\n",
        "!pip install --upgrade pip\n",
        "\n",
        "# Instala o Chainlit\n",
        "!pip install chainlit\n",
        "\n",
        "# Instala o Ngrok\n",
        "!pip install pyngrok\n",
        "\n",
        "# Instala Langchain\n",
        "!pip install langchain\n",
        "\n",
        "# Instala o Optimum\n",
        "!pip install optimum\n",
        "\n",
        "# Instalando o AutoGPTQ com o índice específico do Hugging Face\n",
        "!pip install auto-gptq --extra-index-url https://huggingface.github.io/autogptq-index/whl/cu118/ -q\n",
        "\n",
        "# Verifica as versões instaladas\n",
        "!pip list | grep -E \"chainlit|pyngrok|langchain|optimum|auto-gptq\""
      ]
    },
    {
      "cell_type": "code",
      "source": [
        "# Testa importações dos pacotes\n",
        "import chainlit\n",
        "from pyngrok import ngrok\n",
        "import langchain\n",
        "import optimum\n",
        "# Auto-GPTQ geralmente não é importado diretamente\n",
        "\n",
        "print(f\"Chainlit version: {chainlit.__version__}\")\n",
        "print(f\"Ngrok version: {ngrok.__version__}\")\n",
        "print(f\"Langchain version: {langchain.__version__}\")\n",
        "\n",
        "# Para optimum, vamos usar uma abordagem alternativa\n",
        "try:\n",
        "    import pkg_resources\n",
        "    optimum_version = pkg_resources.get_distribution(\"optimum\").version\n",
        "    print(f\"Optimum version: {optimum_version}\")\n",
        "except:\n",
        "    print(\"Optimum: Instalado, mas não foi possível determinar a versão\")\n",
        "\n",
        "print(\"Todas as bibliotecas foram instaladas com sucesso!\")"
      ],
      "metadata": {
        "colab": {
          "base_uri": "https://localhost:8080/"
        },
        "id": "mlptGFyPMpjR",
        "outputId": "f3072bc4-50bb-4f35-d242-6144e2d28bcd"
      },
      "execution_count": 9,
      "outputs": [
        {
          "output_type": "stream",
          "name": "stdout",
          "text": [
            "Chainlit version: 2.4.400\n",
            "Ngrok version: 7.2.3\n",
            "Langchain version: 0.3.23\n",
            "Optimum version: 1.24.0\n",
            "Todas as bibliotecas foram instaladas com sucesso!\n"
          ]
        }
      ]
    }
  ]
}