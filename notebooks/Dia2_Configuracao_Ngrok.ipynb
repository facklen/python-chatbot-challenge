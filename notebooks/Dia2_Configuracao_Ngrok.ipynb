{
  "nbformat": 4,
  "nbformat_minor": 0,
  "metadata": {
    "colab": {
      "provenance": [],
      "authorship_tag": "ABX9TyN393NVAyMEhf4vlqMI5jJ1",
      "include_colab_link": true
    },
    "kernelspec": {
      "name": "python3",
      "display_name": "Python 3"
    },
    "language_info": {
      "name": "python"
    }
  },
  "cells": [
    {
      "cell_type": "markdown",
      "metadata": {
        "id": "view-in-github",
        "colab_type": "text"
      },
      "source": [
        "<a href=\"https://colab.research.google.com/github/facklen/python-chatbot-challenge/blob/main/notebooks/Dia2_Configuracao_Ngrok.ipynb\" target=\"_parent\"><img src=\"https://colab.research.google.com/assets/colab-badge.svg\" alt=\"Open In Colab\"/></a>"
      ]
    },
    {
      "cell_type": "markdown",
      "source": [
        "# Configuração do Ngrok - Dia 2 do #7DaysOfCode\n",
        "\n",
        "Neste notebook, configurei o Ngrok no Google Colab para permitir acesso externo às aplicações desenvolvidas durante o desafio.\n",
        "\n",
        "## O que é o Ngrok?\n",
        "O Ngrok é uma ferramenta que cria túneis seguros para expor serviços locais na internet através de URLs públicas.\n",
        "\n",
        "## Passos realizados:\n",
        "1. Verificação da instalação do PyNgrok\n",
        "2. Configuração do token de autenticação do Ngrok\n",
        "3. Teste de funcionalidade criando um túnel temporário\n",
        "4. Criação de uma função reutilizável para os próximos dias do desafio\n",
        "\n",
        "## Observações:\n",
        "- É necessário reconfigurar o token de autenticação em cada nova sessão do Colab\n",
        "- O plano gratuito do Ngrok tem algumas limitações, como número de conexões simultâneas"
      ],
      "metadata": {
        "id": "0W5kBdjGlvz1"
      }
    },
    {
      "cell_type": "markdown",
      "source": [
        "# Verificação da instalação do PyNgrok"
      ],
      "metadata": {
        "id": "sz55BHTLeFO4"
      }
    },
    {
      "cell_type": "code",
      "execution_count": 1,
      "metadata": {
        "colab": {
          "base_uri": "https://localhost:8080/"
        },
        "id": "xjmmnowxcs1H",
        "outputId": "bb173a98-76e2-43be-dc90-9b296773fefb"
      },
      "outputs": [
        {
          "output_type": "stream",
          "name": "stdout",
          "text": [
            "PyNgrok não está instalado. Instalando agora...\n",
            "PyNgrok instalado com sucesso!\n"
          ]
        }
      ],
      "source": [
        "# Verificar se o pyngrok já está instalado\n",
        "try:\n",
        "    from pyngrok import ngrok\n",
        "    print(\"PyNgrok já está instalado!\")\n",
        "except ImportError:\n",
        "    print(\"PyNgrok não está instalado. Instalando agora...\")\n",
        "    !pip install pyngrok -q\n",
        "    print(\"PyNgrok instalado com sucesso!\")"
      ]
    },
    {
      "cell_type": "markdown",
      "source": [
        "# Criação de conta no Ngrok"
      ],
      "metadata": {
        "id": "Hkx7CVA4hEHD"
      }
    },
    {
      "cell_type": "code",
      "source": [
        "# Execute esta célula e clique no link para criar uma conta no Ngrok (ignore se já tiver)\n",
        "from IPython.display import display, HTML\n",
        "display(HTML('<a href=\"https://dashboard.ngrok.com/signup\" target=\"_blank\">Clique aqui para criar uma conta no Ngrok</a>'))"
      ],
      "metadata": {
        "colab": {
          "base_uri": "https://localhost:8080/",
          "height": 34
        },
        "id": "Dn5QtNSfg_q7",
        "outputId": "98eb8cd4-0284-4dc9-87c5-3cc651866f1c"
      },
      "execution_count": 2,
      "outputs": [
        {
          "output_type": "display_data",
          "data": {
            "text/plain": [
              "<IPython.core.display.HTML object>"
            ],
            "text/html": [
              "<a href=\"https://dashboard.ngrok.com/signup\" target=\"_blank\">Clique aqui para criar uma conta no Ngrok</a>"
            ]
          },
          "metadata": {}
        }
      ]
    },
    {
      "cell_type": "markdown",
      "source": [
        "# Configuração do token de autenticação do Ngrok"
      ],
      "metadata": {
        "id": "uC_OJyQuhIc6"
      }
    },
    {
      "cell_type": "code",
      "source": [
        "# Obtenha seu authtoken em: https://dashboard.ngrok.com/auth/your-authtoken\n",
        "import os\n",
        "from IPython.display import display, HTML\n",
        "\n",
        "display(HTML('<a href=\"https://dashboard.ngrok.com/auth/your-authtoken\" target=\"_blank\">Clique aqui para obter seu Ngrok authtoken</a>'))\n",
        "\n",
        "# Função para configurar o token do Ngrok\n",
        "def configurar_ngrok_token():\n",
        "    token = input(\"Cole aqui seu token do Ngrok: \")\n",
        "    !ngrok authtoken {token}\n",
        "    # Também salvar o token para uso no código Python\n",
        "    os.environ[\"NGROK_AUTH_TOKEN\"] = token\n",
        "    print(\"Token do Ngrok configurado com sucesso!\")\n",
        "\n",
        "configurar_ngrok_token()"
      ],
      "metadata": {
        "id": "r7XhLHTHhQsS"
      },
      "execution_count": null,
      "outputs": []
    },
    {
      "cell_type": "markdown",
      "source": [
        "# Teste do funcionamento do Ngrok"
      ],
      "metadata": {
        "id": "0m-BPBxsiQtw"
      }
    },
    {
      "cell_type": "code",
      "source": [
        "# Teste de funcionamento do Ngrok\n",
        "from pyngrok import ngrok\n",
        "import time\n",
        "\n",
        "# Listar túneis ativos (deve estar vazio inicialmente)\n",
        "print(\"Túneis ativos antes de criar um novo:\")\n",
        "print(ngrok.get_tunnels())\n",
        "\n",
        "# Criar um túnel de teste (na porta 8000)\n",
        "print(\"\\nCriando um túnel de teste...\")\n",
        "http_tunnel = ngrok.connect(8000)\n",
        "print(f\"URL pública do Ngrok: {http_tunnel.public_url}\")\n",
        "\n",
        "# Listar túneis ativos novamente\n",
        "print(\"\\nTúneis ativos depois de criar um novo:\")\n",
        "print(ngrok.get_tunnels())\n"
      ],
      "metadata": {
        "colab": {
          "base_uri": "https://localhost:8080/"
        },
        "id": "Dy8TUDtBiUJB",
        "outputId": "45a02fd9-ee98-4dfb-ef90-a573869d980f"
      },
      "execution_count": 6,
      "outputs": [
        {
          "output_type": "stream",
          "name": "stdout",
          "text": [
            "Túneis ativos antes de criar um novo:\n",
            "[]\n",
            "\n",
            "Criando um túnel de teste...\n",
            "URL pública do Ngrok: https://d7b8-34-106-183-154.ngrok-free.app\n",
            "\n",
            "Túneis ativos depois de criar um novo:\n",
            "[<NgrokTunnel: \"https://d7b8-34-106-183-154.ngrok-free.app\" -> \"http://localhost:8000\">]\n"
          ]
        }
      ]
    },
    {
      "cell_type": "markdown",
      "source": [
        "# Encerrando o túnel"
      ],
      "metadata": {
        "id": "_ZJThxpIkajI"
      }
    },
    {
      "cell_type": "code",
      "source": [
        "# Esperar 5 segundos para que você possa ver o resultado\n",
        "time.sleep(5)\n",
        "\n",
        "# Encerrar o túnel\n",
        "print(\"\\nEncerrando o túnel...\")\n",
        "ngrok.disconnect(http_tunnel.public_url)\n",
        "ngrok.kill()\n",
        "print(\"Túnel encerrado!\")"
      ],
      "metadata": {
        "colab": {
          "base_uri": "https://localhost:8080/"
        },
        "id": "aauCv3Tqi5In",
        "outputId": "7c199ba9-7c82-4ecc-c056-495a3f25bcac"
      },
      "execution_count": 7,
      "outputs": [
        {
          "output_type": "stream",
          "name": "stderr",
          "text": [
            "WARNING:pyngrok.process.ngrok:t=2025-04-12T19:54:05+0000 lvl=warn msg=\"Stopping forwarder\" name=http-8000-95f54642-a67e-42d7-a608-4bc8de513b5b acceptErr=\"failed to accept connection: Listener closed\"\n"
          ]
        },
        {
          "output_type": "stream",
          "name": "stdout",
          "text": [
            "\n",
            "Encerrando o túnel...\n",
            "Túnel encerrado!\n"
          ]
        }
      ]
    },
    {
      "cell_type": "markdown",
      "source": [
        "# Criação de servidor HTTP Básico\n",
        "\n",
        "\n",
        "*   Função iniciar_servidor_teste - inicializa um servidor de teste\n",
        "*   Função finalizar_servidor - finaliza servidor de teste\n",
        "\n"
      ],
      "metadata": {
        "id": "KVQS6Ewjuv7v"
      }
    },
    {
      "cell_type": "code",
      "source": [
        "def iniciar_servidor_teste(porta=8000):\n",
        "    \"\"\"\n",
        "    Inicia um servidor HTTP simples para testar o túnel Ngrok.\n",
        "\n",
        "    Args:\n",
        "        porta (int): Porta para iniciar o servidor. Padrão: 8000\n",
        "    \"\"\"\n",
        "    from http.server import HTTPServer, BaseHTTPRequestHandler\n",
        "    import threading\n",
        "\n",
        "    # Definir um manipulador HTTP simples\n",
        "    class MeuManipulador(BaseHTTPRequestHandler):\n",
        "        def do_GET(self):\n",
        "            self.send_response(200)\n",
        "            self.send_header('Content-type', 'text/html')\n",
        "            self.end_headers()\n",
        "\n",
        "            # Página HTML simples\n",
        "            html = f\"\"\"\n",
        "            <html>\n",
        "              <head>\n",
        "                <title>Teste do Chatbot - #7DaysOfCode</title>\n",
        "                <style>\n",
        "                  body {{ font-family: Arial, sans-serif; max-width: 800px; margin: 0 auto; padding: 20px; }}\n",
        "                  h1 {{ color: #4285f4; }}\n",
        "                  .container {{ border: 1px solid #ddd; padding: 20px; border-radius: 5px; }}\n",
        "                </style>\n",
        "              </head>\n",
        "              <body>\n",
        "                <h1>Servidor de Teste para o #7DaysOfCode</h1>\n",
        "                <div class=\"container\">\n",
        "                  <h2>Chatbot em Python</h2>\n",
        "                  <p>Se você está vendo esta página, significa que:</p>\n",
        "                  <ul>\n",
        "                    <li>O servidor HTTP está funcionando corretamente</li>\n",
        "                    <li>O túnel Ngrok está encaminhando o tráfego adequadamente</li>\n",
        "                    <li>A autenticação básica está funcionando</li>\n",
        "                  </ul>\n",
        "                  <p>Caminho atual: {self.path}</p>\n",
        "                  <p>Endereço: {self.client_address}</p>\n",
        "                </div>\n",
        "              </body>\n",
        "            </html>\n",
        "            \"\"\"\n",
        "\n",
        "            self.wfile.write(html.encode())\n",
        "\n",
        "    # Iniciar o servidor em uma thread separada\n",
        "    server = HTTPServer(('', porta), MeuManipulador)\n",
        "    print(f\"Servidor iniciado na porta {porta}\")\n",
        "    print(f\"Acesse em http://localhost:{porta} no ambiente local\")\n",
        "    print(\"Para encerrar o servidor, você precisará reiniciar o runtime do Colab\")\n",
        "\n",
        "    # Executar o servidor em uma thread separada para não bloquear o notebook\n",
        "    thread = threading.Thread(target=server.serve_forever)\n",
        "    thread.daemon = True  # Permite que o notebook seja encerrado mesmo com o servidor rodando\n",
        "    thread.start()\n",
        "\n",
        "    return server\n",
        "\n",
        "def finalizar_servidor(servidor):\n",
        "    \"\"\"\n",
        "    Finaliza um servidor HTTP iniciado pela função iniciar_servidor_teste.\n",
        "\n",
        "    Args:\n",
        "        servidor: Instância do servidor HTTP a ser finalizado.\n",
        "    \"\"\"\n",
        "    if servidor:\n",
        "        print(\"Finalizando o servidor HTTP...\")\n",
        "        servidor.shutdown()  # Encerra o loop serve_forever()\n",
        "        servidor.server_close()  # Fecha o socket\n",
        "        print(\"Servidor HTTP finalizado com sucesso.\")\n",
        "    else:\n",
        "        print(\"Nenhum servidor para finalizar.\")"
      ],
      "metadata": {
        "id": "S5TfUyWru5gS"
      },
      "execution_count": 14,
      "outputs": []
    },
    {
      "cell_type": "markdown",
      "source": [
        "# Criação de uma função reutilizável para o Ngrok\n",
        "\n",
        "\n",
        "*   Função criar_tunel_ngrok - cria túnel ngrok\n",
        "*   Função encerrar_tunel_ngrok - finaliza túnel ngrok\n",
        "\n"
      ],
      "metadata": {
        "id": "LYRNSYqCkf-R"
      }
    },
    {
      "cell_type": "code",
      "source": [
        "# Função reutilizável para gerenciar túneis Ngrok\n",
        "def criar_tunel_ngrok(porta, auth_token=None,  usuario=\"admin\", senha=\"chatbot123\"):\n",
        "    \"\"\"\n",
        "    Cria um túnel Ngrok para a porta especificada com autenticação básica.\n",
        "\n",
        "    Args:\n",
        "        porta (int): Porta local que você deseja expor.\n",
        "        auth_token (str, opcional): Token de autenticação do Ngrok.\n",
        "                                   Se não fornecido, solicita ao usuário.\n",
        "        usuario (str, opcional): Nome de usuário para autenticação básica. Padrão: \"admin\"\n",
        "        senha (str, opcional): Senha para autenticação básica. Padrão: \"chatbot123\"\n",
        "\n",
        "    Returns:\n",
        "        str: URL pública do túnel Ngrok.\n",
        "    \"\"\"\n",
        "    from pyngrok import ngrok, conf\n",
        "    import os\n",
        "\n",
        "    # Verificar se o token está definido\n",
        "    if not auth_token:\n",
        "        if \"NGROK_AUTH_TOKEN\" not in os.environ:\n",
        "            auth_token = input(\"Cole aqui seu token do Ngrok: \")\n",
        "        else:\n",
        "            auth_token = os.environ[\"NGROK_AUTH_TOKEN\"]\n",
        "\n",
        "    # Configurar o token\n",
        "    os.environ[\"NGROK_AUTH_TOKEN\"] = auth_token\n",
        "    !ngrok authtoken {auth_token}\n",
        "\n",
        "    # Configurar autenticação básica\n",
        "    # O formato é: \"usuario:senha\"\n",
        "    auth = f\"{usuario}:{senha}\"\n",
        "\n",
        "    # Configurar e iniciar o túnel com autenticação básica\n",
        "    pyngrok_config = conf.PyngrokConfig()\n",
        "    public_url = ngrok.connect(\n",
        "        addr=porta,\n",
        "        auth=auth,\n",
        "        pyngrok_config=pyngrok_config\n",
        "    )\n",
        "\n",
        "    print(f\"Túnel Ngrok criado com sucesso!\")\n",
        "    print(f\"URL pública: {public_url}\")\n",
        "    print(f\"Credenciais de acesso:\")\n",
        "    print(f\"  Usuário: {usuario}\")\n",
        "    print(f\"  Senha: {senha}\")\n",
        "\n",
        "    return public_url\n",
        "\n",
        "def encerrar_tunel_ngrok(url_public):\n",
        "  # Encerrar o túnel\n",
        "  print(\"\\nEncerrando o túnel...\")\n",
        "  ngrok.disconnect(http_tunnel.public_url)\n",
        "  ngrok.kill()\n",
        "  print(\"Túnel encerrado!\")\n"
      ],
      "metadata": {
        "colab": {
          "base_uri": "https://localhost:8080/"
        },
        "id": "CBSNjmvYkXuJ",
        "outputId": "1ca9ffeb-52d2-4a18-bdac-414612f0dce6"
      },
      "execution_count": 13,
      "outputs": [
        {
          "output_type": "stream",
          "name": "stdout",
          "text": [
            "Authtoken saved to configuration file: /root/.config/ngrok/ngrok.yml\n",
            "Túnel Ngrok criado com sucesso!\n",
            "URL pública: NgrokTunnel: \"https://ceec-34-106-183-154.ngrok-free.app\" -> \"http://localhost:8000\"\n",
            "Credenciais de acesso:\n",
            "  Usuário: facklen\n",
            "  Senha: teste432\n"
          ]
        }
      ]
    },
    {
      "cell_type": "markdown",
      "source": [
        "# Chamada da função para criação de túnel"
      ],
      "metadata": {
        "id": "ecxGx4LgueHF"
      }
    },
    {
      "cell_type": "code",
      "source": [
        "# Inicialização do servidor\n",
        "servidor = iniciar_servidor_teste(porta=8000)\n",
        "# Criação do túnel\n",
        "url = criar_tunel_ngrok(porta=8000,usuario=\"facklen\",senha=\"teste432\")"
      ],
      "metadata": {
        "colab": {
          "base_uri": "https://localhost:8080/"
        },
        "id": "QTct5hONukck",
        "outputId": "50a6a36e-47be-4b98-ec32-4f8f4355f781"
      },
      "execution_count": 18,
      "outputs": [
        {
          "output_type": "stream",
          "name": "stdout",
          "text": [
            "Servidor iniciado na porta 8000\n",
            "Acesse em http://localhost:8000 no ambiente local\n",
            "Para encerrar o servidor, você precisará reiniciar o runtime do Colab\n",
            "Authtoken saved to configuration file: /root/.config/ngrok/ngrok.yml\n",
            "Túnel Ngrok criado com sucesso!\n",
            "URL pública: NgrokTunnel: \"https://2d95-34-106-183-154.ngrok-free.app\" -> \"http://localhost:8000\"\n",
            "Credenciais de acesso:\n",
            "  Usuário: facklen\n",
            "  Senha: teste432\n"
          ]
        }
      ]
    },
    {
      "cell_type": "markdown",
      "source": [
        "# Encerramento do túnel"
      ],
      "metadata": {
        "id": "ovKHY_cyupWY"
      }
    },
    {
      "cell_type": "code",
      "source": [
        "# Finaliza servidor\n",
        "finalizar_servidor(servidor)\n",
        "# Encerra túnel\n",
        "encerrar_tunel_ngrok(url)"
      ],
      "metadata": {
        "colab": {
          "base_uri": "https://localhost:8080/"
        },
        "id": "QZZbSvw4usK2",
        "outputId": "d09aa687-9a7e-46a7-c20d-2224f0822de4"
      },
      "execution_count": 21,
      "outputs": [
        {
          "output_type": "stream",
          "name": "stdout",
          "text": [
            "\n",
            "Encerrando o túnel...\n",
            "Túnel encerrado!\n"
          ]
        }
      ]
    }
  ]
}